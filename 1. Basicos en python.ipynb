{
 "cells": [
  {
   "cell_type": "markdown",
   "metadata": {
    "id": "MVZDJtGOYXUf"
   },
   "source": [
    "Empezaremos con algunas funciones básicas que podemos realizar en Python\n",
    "* print\n",
    "* comentarios"
   ]
  },
  {
   "cell_type": "markdown",
   "metadata": {
    "id": "vaFgphBRaJkv"
   },
   "source": [
    "## Print"
   ]
  },
  {
   "cell_type": "markdown",
   "metadata": {
    "id": "V2R516_9fShD"
   },
   "source": [
    "Podemos usar la función `print` para mostrar en consola lo que queremos"
   ]
  },
  {
   "cell_type": "code",
   "execution_count": 1,
   "metadata": {
    "colab": {
     "base_uri": "https://localhost:8080/",
     "height": 34
    },
    "executionInfo": {
     "elapsed": 1915,
     "status": "ok",
     "timestamp": 1602785076319,
     "user": {
      "displayName": "Data Scientist Journal",
      "photoUrl": "https://lh3.googleusercontent.com/a-/AOh14GiS_eC6OpbaL_uDXOjGJfq_bGYQcYM1fsHvvbgF=s64",
      "userId": "01407723431063583735"
     },
     "user_tz": -120
    },
    "id": "tu7tsePGX-cZ",
    "outputId": "9950338a-06a9-4a62-9cfe-a00971c27504"
   },
   "outputs": [
    {
     "name": "stdout",
     "output_type": "stream",
     "text": [
      "Hola Mundo!!!\n"
     ]
    }
   ],
   "source": [
    "print(\"Hola Mundo!!!\")"
   ]
  },
  {
   "cell_type": "code",
   "execution_count": 2,
   "metadata": {
    "colab": {
     "base_uri": "https://localhost:8080/",
     "height": 34
    },
    "executionInfo": {
     "elapsed": 1895,
     "status": "ok",
     "timestamp": 1602785076326,
     "user": {
      "displayName": "Data Scientist Journal",
      "photoUrl": "https://lh3.googleusercontent.com/a-/AOh14GiS_eC6OpbaL_uDXOjGJfq_bGYQcYM1fsHvvbgF=s64",
      "userId": "01407723431063583735"
     },
     "user_tz": -120
    },
    "id": "gcwdDSfHaOzK",
    "outputId": "19666a58-b3d5-4c97-eb89-9ce8253aae45"
   },
   "outputs": [
    {
     "name": "stdout",
     "output_type": "stream",
     "text": [
      "Hola de nuevo\n"
     ]
    }
   ],
   "source": [
    "print(\"Hola de nuevo\")"
   ]
  },
  {
   "cell_type": "code",
   "execution_count": 3,
   "metadata": {
    "colab": {
     "base_uri": "https://localhost:8080/",
     "height": 34
    },
    "executionInfo": {
     "elapsed": 1511,
     "status": "ok",
     "timestamp": 1602785076328,
     "user": {
      "displayName": "Data Scientist Journal",
      "photoUrl": "https://lh3.googleusercontent.com/a-/AOh14GiS_eC6OpbaL_uDXOjGJfq_bGYQcYM1fsHvvbgF=s64",
      "userId": "01407723431063583735"
     },
     "user_tz": -120
    },
    "id": "JLnf8yddaUrE",
    "outputId": "01d88d0b-aea1-4a03-fbbe-39850f573266"
   },
   "outputs": [
    {
     "name": "stdout",
     "output_type": "stream",
     "text": [
      "Me gusta escribir esto.\n"
     ]
    }
   ],
   "source": [
    "print(\"Me gusta escribir esto.\")"
   ]
  },
  {
   "cell_type": "markdown",
   "metadata": {
    "id": "IVnzhCBuamph"
   },
   "source": [
    "Podemos escribir más de una sentencia en la sección de código"
   ]
  },
  {
   "cell_type": "code",
   "execution_count": 4,
   "metadata": {
    "colab": {
     "base_uri": "https://localhost:8080/",
     "height": 67
    },
    "executionInfo": {
     "elapsed": 893,
     "status": "ok",
     "timestamp": 1602785087319,
     "user": {
      "displayName": "Data Scientist Journal",
      "photoUrl": "https://lh3.googleusercontent.com/a-/AOh14GiS_eC6OpbaL_uDXOjGJfq_bGYQcYM1fsHvvbgF=s64",
      "userId": "01407723431063583735"
     },
     "user_tz": -120
    },
    "id": "dvxvWSM1aaM9",
    "outputId": "5ae2c0c6-6812-4644-ab6d-678efd2e4298"
   },
   "outputs": [
    {
     "name": "stdout",
     "output_type": "stream",
     "text": [
      "Esto es divertido\n",
      "Sigamos escribiendo\n",
      "Yo te digo 'no toques esto'\n"
     ]
    }
   ],
   "source": [
    "print(\"Esto es divertido\")\n",
    "print(\"Sigamos escribiendo\")\n",
    "print(\"Yo te digo 'no toques esto'\")"
   ]
  },
  {
   "cell_type": "markdown",
   "metadata": {
    "id": "Jq7c9TCza_Cx"
   },
   "source": [
    "## Entendiendo algunos errores"
   ]
  },
  {
   "cell_type": "code",
   "execution_count": 5,
   "metadata": {
    "colab": {
     "base_uri": "https://localhost:8080/",
     "height": 128
    },
    "executionInfo": {
     "elapsed": 1018,
     "status": "error",
     "timestamp": 1602785094078,
     "user": {
      "displayName": "Data Scientist Journal",
      "photoUrl": "https://lh3.googleusercontent.com/a-/AOh14GiS_eC6OpbaL_uDXOjGJfq_bGYQcYM1fsHvvbgF=s64",
      "userId": "01407723431063583735"
     },
     "user_tz": -120
    },
    "id": "8y86XBgca5Az",
    "outputId": "1a638969-b07e-49f4-934d-ba8e5f84901c"
   },
   "outputs": [
    {
     "ename": "SyntaxError",
     "evalue": "EOL while scanning string literal (<ipython-input-5-a04d3cb9fab4>, line 2)",
     "output_type": "error",
     "traceback": [
      "\u001b[1;36m  File \u001b[1;32m\"<ipython-input-5-a04d3cb9fab4>\"\u001b[1;36m, line \u001b[1;32m2\u001b[0m\n\u001b[1;33m    print(\"Espero no equivocarme)\u001b[0m\n\u001b[1;37m                                 ^\u001b[0m\n\u001b[1;31mSyntaxError\u001b[0m\u001b[1;31m:\u001b[0m EOL while scanning string literal\n"
     ]
    }
   ],
   "source": [
    "print(\"Este es otro texto\")\n",
    "print(\"Espero no equivocarme)"
   ]
  },
  {
   "cell_type": "markdown",
   "metadata": {
    "id": "Xf0m6XFGdNj5"
   },
   "source": [
    "Podemos observar que al ejecutar el script anterior nos aparece un mensaje de error:\n",
    "* Nos manda a la línea 2\n",
    "* Aparece el símbolo `^` indicando la parte donde podría estar el error.\n",
    "* En este caso el error es debido a que nos falta agregar la doble comilla al final (`\"`).\n",
    "* Para errores más complejos podemos encontrar la solución con una búsqueda en Internet. Basta con copiar el mensaje de error en el buscador y aparecerán posibles soluciones al problema o error.\n",
    "\n",
    "En este caso, sabemos cuál es el error y lo corregiremos:"
   ]
  },
  {
   "cell_type": "code",
   "execution_count": 6,
   "metadata": {
    "colab": {
     "base_uri": "https://localhost:8080/",
     "height": 50
    },
    "executionInfo": {
     "elapsed": 944,
     "status": "ok",
     "timestamp": 1602785278115,
     "user": {
      "displayName": "Data Scientist Journal",
      "photoUrl": "https://lh3.googleusercontent.com/a-/AOh14GiS_eC6OpbaL_uDXOjGJfq_bGYQcYM1fsHvvbgF=s64",
      "userId": "01407723431063583735"
     },
     "user_tz": -120
    },
    "id": "cxQaqgBubDhM",
    "outputId": "80d54ff4-80c3-4ff5-9d5c-e295078a8aa4"
   },
   "outputs": [
    {
     "name": "stdout",
     "output_type": "stream",
     "text": [
      "Este es otro texto\n",
      "Espero no equivocarme\n"
     ]
    }
   ],
   "source": [
    "print(\"Este es otro texto\")\n",
    "print(\"Espero no equivocarme\")"
   ]
  },
  {
   "cell_type": "markdown",
   "metadata": {
    "id": "NWGPbFjdeNnR"
   },
   "source": [
    "## Comentarios en Python\n",
    "\n",
    "Los comentarios son muy importantes en nuestros programas.\n",
    "Son útiles para explicar el funcionamiento del programa a personas que puedan usarlo en el futuro. También se puede usar para explicar partes del código.\n",
    "Estos comentarios son ignorados por la computadora al ejecutarlos.\n",
    "\n",
    "Hay dos maneras de insertar comentarios en Python:\n",
    "* Si el comentario ocupa una línea, mayormente se usa `#`. Todo lo escrito a la derecha de `#` Python lo ignorará\n",
    "* Si el comentario puede ocupar más de dos líneas, usamos `\"\"\" \"\"\"`. Todo lo escrito dentro de `\"\"\" \"\"\"` Python lo ignorará."
   ]
  },
  {
   "cell_type": "code",
   "execution_count": 7,
   "metadata": {
    "colab": {
     "base_uri": "https://localhost:8080/",
     "height": 34
    },
    "executionInfo": {
     "elapsed": 905,
     "status": "ok",
     "timestamp": 1602785335354,
     "user": {
      "displayName": "Data Scientist Journal",
      "photoUrl": "https://lh3.googleusercontent.com/a-/AOh14GiS_eC6OpbaL_uDXOjGJfq_bGYQcYM1fsHvvbgF=s64",
      "userId": "01407723431063583735"
     },
     "user_tz": -120
    },
    "id": "wr6mRq7geIHl",
    "outputId": "560bf100-9bc6-46af-c8fb-be1ff45579bc"
   },
   "outputs": [
    {
     "name": "stdout",
     "output_type": "stream",
     "text": [
      "Esto no es un comentario\n"
     ]
    }
   ],
   "source": [
    "#Este es un comentario de una línea, Python lo va a ignorar\n",
    "print('Esto no es un comentario')"
   ]
  },
  {
   "cell_type": "code",
   "execution_count": 8,
   "metadata": {
    "colab": {
     "base_uri": "https://localhost:8080/",
     "height": 34
    },
    "executionInfo": {
     "elapsed": 785,
     "status": "ok",
     "timestamp": 1602785375310,
     "user": {
      "displayName": "Data Scientist Journal",
      "photoUrl": "https://lh3.googleusercontent.com/a-/AOh14GiS_eC6OpbaL_uDXOjGJfq_bGYQcYM1fsHvvbgF=s64",
      "userId": "01407723431063583735"
     },
     "user_tz": -120
    },
    "id": "lxYrTehBfj37",
    "outputId": "68e98ae2-2c5a-4869-d755-00ee6033f0b0"
   },
   "outputs": [
    {
     "name": "stdout",
     "output_type": "stream",
     "text": [
      "Este comentario si lo quiero mostrar\n"
     ]
    }
   ],
   "source": [
    "\"\"\" \n",
    "Este es un comentario de varias líneas\n",
    "No quiero que mi programa ejecute este print\n",
    "print(\"Esto es un comentrio\") \n",
    "\"\"\"\n",
    "\n",
    "print(\"Este comentario si lo quiero mostrar\")"
   ]
  },
  {
   "cell_type": "markdown",
   "metadata": {
    "id": "Jtvslh2FdBTb"
   },
   "source": [
    "Podemos ver del ejemplo anterior, que Python no ha leído el `print(\"Esto es un comentrio\")` ya que se encuentra dentro de `\"\"\" \"\"\"`."
   ]
  },
  {
   "cell_type": "markdown",
   "metadata": {
    "id": "fM7lR2x8f8mP"
   },
   "source": [
    "Podemos agregar comentario en cualquier parte de nuestro programa.\n",
    "\n",
    "* `#` comenta todo lo que está a la derecha. Se puede combinar código con comentarios en la misma línea."
   ]
  },
  {
   "cell_type": "code",
   "execution_count": 9,
   "metadata": {
    "colab": {
     "base_uri": "https://localhost:8080/",
     "height": 67
    },
    "executionInfo": {
     "elapsed": 916,
     "status": "ok",
     "timestamp": 1602785452522,
     "user": {
      "displayName": "Data Scientist Journal",
      "photoUrl": "https://lh3.googleusercontent.com/a-/AOh14GiS_eC6OpbaL_uDXOjGJfq_bGYQcYM1fsHvvbgF=s64",
      "userId": "01407723431063583735"
     },
     "user_tz": -120
    },
    "id": "e3ZFrjt9f4iL",
    "outputId": "6ee517da-5699-456f-b250-bbc3d7db5209"
   },
   "outputs": [
    {
     "name": "stdout",
     "output_type": "stream",
     "text": [
      "Inicio de la prueba\n",
      "Otra sección no comentario\n",
      "Final de la prueba\n"
     ]
    }
   ],
   "source": [
    "print(\"Inicio de la prueba\")\n",
    "\n",
    "# Sección de comentario\n",
    "print(\"Otra sección no comentario\") #Esto si es un comentario\n",
    "\n",
    "print(\"Final de la prueba\")"
   ]
  },
  {
   "cell_type": "markdown",
   "metadata": {
    "id": "6TAf9xbqmJU0"
   },
   "source": [
    "* `\"\"\" \"\"\"` comenta lo que está dentro, pero no se puede combinar código y este tipo de comentarios en la misma línea"
   ]
  },
  {
   "cell_type": "code",
   "execution_count": 10,
   "metadata": {
    "colab": {
     "base_uri": "https://localhost:8080/",
     "height": 67
    },
    "executionInfo": {
     "elapsed": 885,
     "status": "ok",
     "timestamp": 1602785471762,
     "user": {
      "displayName": "Data Scientist Journal",
      "photoUrl": "https://lh3.googleusercontent.com/a-/AOh14GiS_eC6OpbaL_uDXOjGJfq_bGYQcYM1fsHvvbgF=s64",
      "userId": "01407723431063583735"
     },
     "user_tz": -120
    },
    "id": "bJrrx85Ngqk-",
    "outputId": "9ee23fc9-02d1-4f4b-f2da-8b95db09ab13"
   },
   "outputs": [
    {
     "name": "stdout",
     "output_type": "stream",
     "text": [
      "última prueba\n",
      "Esta parte si lo quiero mostrar\n",
      "Final\n"
     ]
    }
   ],
   "source": [
    "\"\"\"Inicio de comentario\"\"\"\n",
    "print(\"última prueba\")\n",
    "\n",
    "\"\"\" No quiero ejecutar esta parte \n",
    "print(\"Ejemplo\")\n",
    "\"\"\" \n",
    "\n",
    "print(\"Esta parte si lo quiero mostrar\")\n",
    "print(\"Final\")"
   ]
  },
  {
   "cell_type": "markdown",
   "metadata": {
    "id": "T93RJe6ldXgP"
   },
   "source": [
    "¡Y esto es todo en esta primera parte!"
   ]
  },
  {
   "cell_type": "code",
   "execution_count": null,
   "metadata": {
    "id": "X98Or0EOdWlS"
   },
   "outputs": [],
   "source": []
  }
 ],
 "metadata": {
  "colab": {
   "collapsed_sections": [],
   "name": "1. Basicos en python.ipynb",
   "provenance": []
  },
  "kernelspec": {
   "display_name": "Python 3",
   "language": "python",
   "name": "python3"
  },
  "language_info": {
   "codemirror_mode": {
    "name": "ipython",
    "version": 3
   },
   "file_extension": ".py",
   "mimetype": "text/x-python",
   "name": "python",
   "nbconvert_exporter": "python",
   "pygments_lexer": "ipython3",
   "version": "3.7.6"
  }
 },
 "nbformat": 4,
 "nbformat_minor": 1
}
