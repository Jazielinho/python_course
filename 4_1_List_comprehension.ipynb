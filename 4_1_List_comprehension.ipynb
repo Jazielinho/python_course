{
 "cells": [
  {
   "cell_type": "markdown",
   "metadata": {
    "id": "1FnLH2pUVTjV"
   },
   "source": [
    "# List comprehension\n",
    "\n",
    "Una List comprehension es una manera de poder crear listas, a partir de una lista, de manera consisa y muchas veces el resultado es más rápido que usando un bucle como `for`.\n",
    "\n",
    "Veamos con el siguiente ejemplo:\n",
    "\n",
    "Supongamos que tenemos una lista de números y queremos generar otra lista cuyos elementos sean el doble de la lista original."
   ]
  },
  {
   "cell_type": "code",
   "execution_count": 1,
   "metadata": {
    "executionInfo": {
     "elapsed": 751,
     "status": "ok",
     "timestamp": 1605109715749,
     "user": {
      "displayName": "Data Scientist Journal",
      "photoUrl": "https://lh3.googleusercontent.com/a-/AOh14GiS_eC6OpbaL_uDXOjGJfq_bGYQcYM1fsHvvbgF=s64",
      "userId": "01407723431063583735"
     },
     "user_tz": -60
    },
    "id": "mXHllFa8TaCK"
   },
   "outputs": [],
   "source": [
    "# generando nuestra lista de números\n",
    "\n",
    "numeros = [1, 2, 3, 4, 5, 6]"
   ]
  },
  {
   "cell_type": "markdown",
   "metadata": {
    "id": "8tunEYUKWSLJ"
   },
   "source": [
    "vamos a crear nuestra nueva lista usando bucle for:"
   ]
  },
  {
   "cell_type": "code",
   "execution_count": 2,
   "metadata": {
    "colab": {
     "base_uri": "https://localhost:8080/"
    },
    "executionInfo": {
     "elapsed": 707,
     "status": "ok",
     "timestamp": 1605109715751,
     "user": {
      "displayName": "Data Scientist Journal",
      "photoUrl": "https://lh3.googleusercontent.com/a-/AOh14GiS_eC6OpbaL_uDXOjGJfq_bGYQcYM1fsHvvbgF=s64",
      "userId": "01407723431063583735"
     },
     "user_tz": -60
    },
    "id": "w0jRqMt2WQEf",
    "outputId": "8d438176-981a-4b1b-889f-3a44ecf54f0d"
   },
   "outputs": [
    {
     "name": "stdout",
     "output_type": "stream",
     "text": [
      "[2, 4, 6, 8, 10, 12]\n"
     ]
    }
   ],
   "source": [
    "cuadrados = []\n",
    "\n",
    "for numero in numeros:\n",
    "    cuadrado = 2 * numero\n",
    "    cuadrados.append(cuadrado)\n",
    "\n",
    "print(cuadrados)"
   ]
  },
  {
   "cell_type": "markdown",
   "metadata": {
    "id": "gSsVYPLqWnAL"
   },
   "source": [
    "Podemos ver que hemos generado una lista cuyos elementos son el doble de los elementos de la lista  `numeros`.\n",
    "\n",
    "Ahora hagamos lo mismo, pero usando list comprehension:"
   ]
  },
  {
   "cell_type": "code",
   "execution_count": 3,
   "metadata": {
    "colab": {
     "base_uri": "https://localhost:8080/"
    },
    "executionInfo": {
     "elapsed": 688,
     "status": "ok",
     "timestamp": 1605109715753,
     "user": {
      "displayName": "Data Scientist Journal",
      "photoUrl": "https://lh3.googleusercontent.com/a-/AOh14GiS_eC6OpbaL_uDXOjGJfq_bGYQcYM1fsHvvbgF=s64",
      "userId": "01407723431063583735"
     },
     "user_tz": -60
    },
    "id": "ww82J-rNWdfU",
    "outputId": "a45bc154-ae05-4aef-b974-02d3cdcc7fc7"
   },
   "outputs": [
    {
     "name": "stdout",
     "output_type": "stream",
     "text": [
      "[2, 4, 6, 8, 10, 12]\n"
     ]
    }
   ],
   "source": [
    "cuadrados = [2 *x for x in numeros]\n",
    "\n",
    "print(cuadrados)"
   ]
  },
  {
   "cell_type": "markdown",
   "metadata": {
    "id": "cmzKupbYW2ev"
   },
   "source": [
    "¡Hemos obtenido el mismo resultado, solo que en una sola línea!\n",
    "\n",
    "¿Será más rápido? Veamos, para eso usaremos una lista más grande:"
   ]
  },
  {
   "cell_type": "code",
   "execution_count": 4,
   "metadata": {
    "executionInfo": {
     "elapsed": 1084,
     "status": "ok",
     "timestamp": 1605109716167,
     "user": {
      "displayName": "Data Scientist Journal",
      "photoUrl": "https://lh3.googleusercontent.com/a-/AOh14GiS_eC6OpbaL_uDXOjGJfq_bGYQcYM1fsHvvbgF=s64",
      "userId": "01407723431063583735"
     },
     "user_tz": -60
    },
    "id": "4GX8aRHHWgFH"
   },
   "outputs": [],
   "source": [
    "# Generando una lista grande de números\n",
    "\n",
    "numeros = list(range(1000000))"
   ]
  },
  {
   "cell_type": "code",
   "execution_count": 5,
   "metadata": {
    "colab": {
     "base_uri": "https://localhost:8080/"
    },
    "executionInfo": {
     "elapsed": 1076,
     "status": "ok",
     "timestamp": 1605109716172,
     "user": {
      "displayName": "Data Scientist Journal",
      "photoUrl": "https://lh3.googleusercontent.com/a-/AOh14GiS_eC6OpbaL_uDXOjGJfq_bGYQcYM1fsHvvbgF=s64",
      "userId": "01407723431063583735"
     },
     "user_tz": -60
    },
    "id": "5fhd5nySXWY8",
    "outputId": "7c2e3618-215e-4584-814c-196da1a03e6c"
   },
   "outputs": [
    {
     "name": "stdout",
     "output_type": "stream",
     "text": [
      "Wall time: 167 ms\n"
     ]
    }
   ],
   "source": [
    "%%time\n",
    "\n",
    "cuadrados = []\n",
    "\n",
    "for numero in numeros:\n",
    "    cuadrado = 2 *numero\n",
    "    cuadrados.append(cuadrado)"
   ]
  },
  {
   "cell_type": "code",
   "execution_count": 6,
   "metadata": {
    "colab": {
     "base_uri": "https://localhost:8080/"
    },
    "executionInfo": {
     "elapsed": 1064,
     "status": "ok",
     "timestamp": 1605109716174,
     "user": {
      "displayName": "Data Scientist Journal",
      "photoUrl": "https://lh3.googleusercontent.com/a-/AOh14GiS_eC6OpbaL_uDXOjGJfq_bGYQcYM1fsHvvbgF=s64",
      "userId": "01407723431063583735"
     },
     "user_tz": -60
    },
    "id": "jmeVoHe8Xgaz",
    "outputId": "21bd9b91-697f-4e0b-b842-914714157f0d"
   },
   "outputs": [
    {
     "name": "stdout",
     "output_type": "stream",
     "text": [
      "Wall time: 86.8 ms\n"
     ]
    }
   ],
   "source": [
    "%%time\n",
    "\n",
    "cuadrados = [2 * x for x in numeros]"
   ]
  },
  {
   "cell_type": "markdown",
   "metadata": {
    "id": "vvtIFJI8X8nA"
   },
   "source": [
    "Mirando el tiempo `total` ¡Podemos ver que tarda mucho menos!"
   ]
  },
  {
   "cell_type": "markdown",
   "metadata": {
    "id": "gneebJYZYbyK"
   },
   "source": [
    "## Sintaxis\n",
    "\n",
    "Una list comprehension empieza con `[` y termina con `]` para recordar que el resultado siempre será una lista.\n",
    "\n",
    "La sintaxis tiene la siguiente forma:\n",
    "\n",
    "```python\n",
    "[expresion(x) for x in lista if condicion]\n",
    "```\n",
    "\n",
    "Esto es equivalente a:\n",
    "\n",
    "```python\n",
    "nueva_lista = []\n",
    "\n",
    "for x in lista:\n",
    "  if condicion:\n",
    "    nueva_lista.append(expresion(x))\n",
    "```\n",
    "\n",
    "Ya veremos más adelante, pero con `expresion` nos referimos a una función, com por ejemplo, el doble de un número, el cuadrado, un texto en mayúsculas, etc. Usamos `condicion` para que la lista se genere con aquellos elementos que pasen la condicion, esto implica que la salida de la lista no siempre tendrá la misma longitud que la lista original.\n",
    "\n",
    "Dado que list comprehension evita `append` por lo general es más rápido que usar bucles como `for`."
   ]
  },
  {
   "cell_type": "markdown",
   "metadata": {
    "id": "dseqIMJtd5MJ"
   },
   "source": [
    "## Ejemplos:\n",
    "\n",
    "Veamos algunos ejemplos usando simples bucles como list comprehension:"
   ]
  },
  {
   "cell_type": "markdown",
   "metadata": {
    "id": "MFoxyaGhd9gU"
   },
   "source": [
    "### Poniendo en mayúsculas una lista de palabras\n",
    "\n",
    "Tenemos una lista de palabras, vamos a ponerlos en mayúsculas:"
   ]
  },
  {
   "cell_type": "code",
   "execution_count": 7,
   "metadata": {
    "executionInfo": {
     "elapsed": 1115,
     "status": "ok",
     "timestamp": 1605109716240,
     "user": {
      "displayName": "Data Scientist Journal",
      "photoUrl": "https://lh3.googleusercontent.com/a-/AOh14GiS_eC6OpbaL_uDXOjGJfq_bGYQcYM1fsHvvbgF=s64",
      "userId": "01407723431063583735"
     },
     "user_tz": -60
    },
    "id": "lNuv7kjcXqy9"
   },
   "outputs": [],
   "source": [
    "nombres = ['me', 'encanta', 'programar', 'en', 'python']"
   ]
  },
  {
   "cell_type": "code",
   "execution_count": 8,
   "metadata": {
    "colab": {
     "base_uri": "https://localhost:8080/"
    },
    "executionInfo": {
     "elapsed": 1107,
     "status": "ok",
     "timestamp": 1605109716242,
     "user": {
      "displayName": "Data Scientist Journal",
      "photoUrl": "https://lh3.googleusercontent.com/a-/AOh14GiS_eC6OpbaL_uDXOjGJfq_bGYQcYM1fsHvvbgF=s64",
      "userId": "01407723431063583735"
     },
     "user_tz": -60
    },
    "id": "xl3JA21EeJ31",
    "outputId": "8176dc7a-aef3-49b5-e752-1da3c44e65fc"
   },
   "outputs": [
    {
     "name": "stdout",
     "output_type": "stream",
     "text": [
      "['ME', 'ENCANTA', 'PROGRAMAR', 'EN', 'PYTHON']\n"
     ]
    }
   ],
   "source": [
    "# Usando bucles\n",
    "\n",
    "nombres_mayusculas = []\n",
    "\n",
    "for nombre in nombres:\n",
    "    nombres_mayusculas.append(nombre.upper())\n",
    "\n",
    "print(nombres_mayusculas)"
   ]
  },
  {
   "cell_type": "code",
   "execution_count": 9,
   "metadata": {
    "colab": {
     "base_uri": "https://localhost:8080/"
    },
    "executionInfo": {
     "elapsed": 1087,
     "status": "ok",
     "timestamp": 1605109716243,
     "user": {
      "displayName": "Data Scientist Journal",
      "photoUrl": "https://lh3.googleusercontent.com/a-/AOh14GiS_eC6OpbaL_uDXOjGJfq_bGYQcYM1fsHvvbgF=s64",
      "userId": "01407723431063583735"
     },
     "user_tz": -60
    },
    "id": "Sc_16xXUeQ3k",
    "outputId": "25d3e360-ccfb-4f58-91dc-5f1bda22552e"
   },
   "outputs": [
    {
     "name": "stdout",
     "output_type": "stream",
     "text": [
      "['ME', 'ENCANTA', 'PROGRAMAR', 'EN', 'PYTHON']\n"
     ]
    }
   ],
   "source": [
    "# list comprehension\n",
    "\n",
    "nombres_mayusculas = [nombre.upper() for nombre in nombres]\n",
    "\n",
    "print(nombres_mayusculas)"
   ]
  },
  {
   "cell_type": "markdown",
   "metadata": {
    "id": "FK7hkdmAejiH"
   },
   "source": [
    "### Elevando al cuadrado de los números pares de una lista de números\n",
    "\n",
    "Calculemos el cuadrado de los elementos de una lista de números, pero solo de los números pares. En este caso la lista final será menor que la lista original, ya que solo queremos calcular el cuadrado de los números pares:"
   ]
  },
  {
   "cell_type": "code",
   "execution_count": 10,
   "metadata": {
    "executionInfo": {
     "elapsed": 1074,
     "status": "ok",
     "timestamp": 1605109716244,
     "user": {
      "displayName": "Data Scientist Journal",
      "photoUrl": "https://lh3.googleusercontent.com/a-/AOh14GiS_eC6OpbaL_uDXOjGJfq_bGYQcYM1fsHvvbgF=s64",
      "userId": "01407723431063583735"
     },
     "user_tz": -60
    },
    "id": "HLok1sPTeZKl"
   },
   "outputs": [],
   "source": [
    "numeros = range(0, 10)"
   ]
  },
  {
   "cell_type": "code",
   "execution_count": 11,
   "metadata": {
    "colab": {
     "base_uri": "https://localhost:8080/"
    },
    "executionInfo": {
     "elapsed": 1308,
     "status": "ok",
     "timestamp": 1605109716492,
     "user": {
      "displayName": "Data Scientist Journal",
      "photoUrl": "https://lh3.googleusercontent.com/a-/AOh14GiS_eC6OpbaL_uDXOjGJfq_bGYQcYM1fsHvvbgF=s64",
      "userId": "01407723431063583735"
     },
     "user_tz": -60
    },
    "id": "RUnI7As0e0ed",
    "outputId": "1c0cb861-387d-4485-d548-2daa3078669a"
   },
   "outputs": [
    {
     "name": "stdout",
     "output_type": "stream",
     "text": [
      "[0, 4, 16, 36, 64]\n"
     ]
    }
   ],
   "source": [
    "# Usando bucles\n",
    "cuadrados_pares = []\n",
    "\n",
    "for numero in numeros:\n",
    "    if numero % 2 == 0:\n",
    "        cuadrados_pares.append(numero ** 2)\n",
    "\n",
    "print(cuadrados_pares)"
   ]
  },
  {
   "cell_type": "code",
   "execution_count": 12,
   "metadata": {
    "colab": {
     "base_uri": "https://localhost:8080/"
    },
    "executionInfo": {
     "elapsed": 1316,
     "status": "ok",
     "timestamp": 1605109716517,
     "user": {
      "displayName": "Data Scientist Journal",
      "photoUrl": "https://lh3.googleusercontent.com/a-/AOh14GiS_eC6OpbaL_uDXOjGJfq_bGYQcYM1fsHvvbgF=s64",
      "userId": "01407723431063583735"
     },
     "user_tz": -60
    },
    "id": "iZMEiXRge9ti",
    "outputId": "dbcc7a58-9ff6-475c-b5f1-650a1485d2c7"
   },
   "outputs": [
    {
     "name": "stdout",
     "output_type": "stream",
     "text": [
      "[0, 4, 16, 36, 64]\n"
     ]
    }
   ],
   "source": [
    "# list comprehension\n",
    "\n",
    "cuadrados_pares = [x**2 for x in numeros if x % 2 == 0]\n",
    "\n",
    "print(cuadrados_pares)"
   ]
  },
  {
   "cell_type": "markdown",
   "metadata": {
    "id": "Y5NWmADKf8Yw"
   },
   "source": [
    "### Generando una lista con: texto mayuscula y minuscula\n",
    "\n",
    "Tenemos una lista de palabras y queremos calcular una lista que contenga la palabra en mayúscula y minúscula. En este caso haremos uso de una tupla:"
   ]
  },
  {
   "cell_type": "code",
   "execution_count": 13,
   "metadata": {
    "executionInfo": {
     "elapsed": 1300,
     "status": "ok",
     "timestamp": 1605109716518,
     "user": {
      "displayName": "Data Scientist Journal",
      "photoUrl": "https://lh3.googleusercontent.com/a-/AOh14GiS_eC6OpbaL_uDXOjGJfq_bGYQcYM1fsHvvbgF=s64",
      "userId": "01407723431063583735"
     },
     "user_tz": -60
    },
    "id": "_jI9ydYlfG1o"
   },
   "outputs": [],
   "source": [
    "palabras = ['Ab', 'Cd', 'Ef']"
   ]
  },
  {
   "cell_type": "code",
   "execution_count": 14,
   "metadata": {
    "colab": {
     "base_uri": "https://localhost:8080/"
    },
    "executionInfo": {
     "elapsed": 1288,
     "status": "ok",
     "timestamp": 1605109716519,
     "user": {
      "displayName": "Data Scientist Journal",
      "photoUrl": "https://lh3.googleusercontent.com/a-/AOh14GiS_eC6OpbaL_uDXOjGJfq_bGYQcYM1fsHvvbgF=s64",
      "userId": "01407723431063583735"
     },
     "user_tz": -60
    },
    "id": "-yJITMNGglRT",
    "outputId": "83db158d-4ca2-4456-cb4a-a9172d11eead"
   },
   "outputs": [
    {
     "name": "stdout",
     "output_type": "stream",
     "text": [
      "[('ab', 'AB'), ('cd', 'CD'), ('ef', 'EF')]\n"
     ]
    }
   ],
   "source": [
    "# usando bucles\n",
    "\n",
    "nuevas_palabras = []\n",
    "\n",
    "for palabra in palabras:\n",
    "    nuevas_palabras.append((palabra.lower(), palabra.upper()))\n",
    "\n",
    "print(nuevas_palabras)"
   ]
  },
  {
   "cell_type": "code",
   "execution_count": 15,
   "metadata": {
    "colab": {
     "base_uri": "https://localhost:8080/"
    },
    "executionInfo": {
     "elapsed": 1278,
     "status": "ok",
     "timestamp": 1605109716525,
     "user": {
      "displayName": "Data Scientist Journal",
      "photoUrl": "https://lh3.googleusercontent.com/a-/AOh14GiS_eC6OpbaL_uDXOjGJfq_bGYQcYM1fsHvvbgF=s64",
      "userId": "01407723431063583735"
     },
     "user_tz": -60
    },
    "id": "gEZKJnW4hbA7",
    "outputId": "7aaec73b-d9ce-4447-f3de-16faad7df0b6"
   },
   "outputs": [
    {
     "name": "stdout",
     "output_type": "stream",
     "text": [
      "[('ab', 'AB'), ('cd', 'CD'), ('ef', 'EF')]\n"
     ]
    }
   ],
   "source": [
    "# list comprehension\n",
    "\n",
    "nuevas_palabras = [(x.lower(), x.upper()) for x in palabras]\n",
    "\n",
    "print(nuevas_palabras)"
   ]
  },
  {
   "cell_type": "markdown",
   "metadata": {
    "id": "lJItB-vIh1Rd"
   },
   "source": [
    "Ya hemos visto cómo usar list comprehension para crear listas en lugar de bucles.\n",
    "\n",
    "Ahora solo queda practicar y practicar."
   ]
  },
  {
   "cell_type": "code",
   "execution_count": null,
   "metadata": {
    "executionInfo": {
     "elapsed": 1261,
     "status": "ok",
     "timestamp": 1605109716526,
     "user": {
      "displayName": "Data Scientist Journal",
      "photoUrl": "https://lh3.googleusercontent.com/a-/AOh14GiS_eC6OpbaL_uDXOjGJfq_bGYQcYM1fsHvvbgF=s64",
      "userId": "01407723431063583735"
     },
     "user_tz": -60
    },
    "id": "F0097x29hmU7"
   },
   "outputs": [],
   "source": []
  }
 ],
 "metadata": {
  "colab": {
   "authorship_tag": "ABX9TyPOj0uNyhNQ0hEgtP69yHqW",
   "collapsed_sections": [],
   "name": "4_1_List_comprehension.ipynb",
   "provenance": []
  },
  "kernelspec": {
   "display_name": "Python 3",
   "language": "python",
   "name": "python3"
  },
  "language_info": {
   "codemirror_mode": {
    "name": "ipython",
    "version": 3
   },
   "file_extension": ".py",
   "mimetype": "text/x-python",
   "name": "python",
   "nbconvert_exporter": "python",
   "pygments_lexer": "ipython3",
   "version": "3.7.6"
  }
 },
 "nbformat": 4,
 "nbformat_minor": 1
}
