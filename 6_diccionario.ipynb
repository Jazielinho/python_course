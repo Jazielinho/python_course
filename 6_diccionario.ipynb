{
 "cells": [
  {
   "cell_type": "markdown",
   "metadata": {
    "id": "xlECeJfZBiTg"
   },
   "source": [
    "# Diccionarios"
   ]
  },
  {
   "cell_type": "markdown",
   "metadata": {
    "id": "lpwVRbcrBqZL"
   },
   "source": [
    "En este capítulo, aprenderá a usar los diccionarios de Python, que le permiten conectar piezas de información relacionada. Aprenderá cómo acceder a la información una vez que esté en un diccionario y cómo modificar esa información.\n",
    "Debido a que los diccionarios pueden almacenar una cantidad casi ilimitada de información, le mostraré cómo recorrer los datos en un diccionario. Además, aprenderá a anidar diccionarios dentro de listas, listas dentro de diccionarios e incluso diccionarios dentro de otros diccionarios. La comprensión de los diccionarios le permite modelar una variedad de objetos del mundo real con mayor precisión. Podrá crear un diccionario que represente a una persona y luego almacenar toda la información que desee sobre esa persona. Puede almacenar su nombre, edad, ubicación, profesión y cualquier otro aspecto de una persona que pueda describir. Podrá almacenar dos tipos de información que se puedan comparar, como una lista de palabras y sus significados, una lista de nombres de personas y sus números favoritos, una lista de montañas y sus elevaciones, etc."
   ]
  },
  {
   "cell_type": "code",
   "execution_count": null,
   "metadata": {
    "id": "KlzbNC2mBUqR"
   },
   "outputs": [],
   "source": []
  }
 ],
 "metadata": {
  "colab": {
   "authorship_tag": "ABX9TyMcMynDntplzydj6t2ZftVx",
   "name": "6_diccionario.ipynb",
   "provenance": []
  },
  "kernelspec": {
   "display_name": "Python 3",
   "language": "python",
   "name": "python3"
  },
  "language_info": {
   "codemirror_mode": {
    "name": "ipython",
    "version": 3
   },
   "file_extension": ".py",
   "mimetype": "text/x-python",
   "name": "python",
   "nbconvert_exporter": "python",
   "pygments_lexer": "ipython3",
   "version": "3.7.6"
  }
 },
 "nbformat": 4,
 "nbformat_minor": 1
}
